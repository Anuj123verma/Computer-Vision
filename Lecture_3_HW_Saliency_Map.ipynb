{
  "nbformat": 4,
  "nbformat_minor": 0,
  "metadata": {
    "colab": {
      "name": "Lecture_3_HW_Saliency_Map",
      "provenance": [],
      "authorship_tag": "ABX9TyPqqHmZLhzL7S2PxOd+gdqv",
      "include_colab_link": true
    },
    "kernelspec": {
      "name": "python3",
      "display_name": "Python 3"
    }
  },
  "cells": [
    {
      "cell_type": "markdown",
      "metadata": {
        "id": "view-in-github",
        "colab_type": "text"
      },
      "source": [
        "<a href=\"https://colab.research.google.com/github/Anuj123verma/Computer-Vision/blob/main/Lecture_3_HW_Saliency_Map.ipynb\" target=\"_parent\"><img src=\"https://colab.research.google.com/assets/colab-badge.svg\" alt=\"Open In Colab\"/></a>"
      ]
    },
    {
      "cell_type": "code",
      "metadata": {
        "colab": {
          "base_uri": "https://localhost:8080/",
          "height": 131
        },
        "id": "P9u3uNKbulsy",
        "outputId": "50cd8e48-0ea3-480b-e3eb-007a7a3d74a2"
      },
      "source": [
        "import cv2\r\n",
        "import numpy as np \r\n",
        "import math\r\n",
        "import matplotlib.pyplot as plt\r\n",
        "from google.colab.patches import cv2_imshow\r\n",
        "image = cv2.imread('/content/original_dog_photo.jpg')\r\n",
        "image = cv2.resize(image, (40, 40)) \r\n",
        "cv2.imwrite(\"input.jpg\",image)\r\n",
        "cv2_imshow(image)\r\n",
        "image = image.astype(dtype=np.int_)\r\n",
        "row = len(image)\r\n",
        "col = len(image[0])\r\n",
        "print(image.shape)\r\n",
        "s_map= np.zeros((row,col))\r\n",
        "max_map = 0\r\n",
        "for i in range(row):\r\n",
        "\tfor j in range(col):\r\n",
        "\t\tfor it in range(row):\r\n",
        "\t\t\tfor jt in range(col):\r\n",
        "\t\t\t\tr = image[i][j][0] # finding for the r channel\r\n",
        "\t\t\t\tg = image[i][j][1] # findig for the g channel\r\n",
        "\t\t\t\tb = image[i][j][2]  # finding for the b channel\r\n",
        "\t\t\t\tro = image[it][jt][0]\r\n",
        "\t\t\t\tgo = image[it][jt][1]\r\n",
        "\t\t\t\tbo = image[it][jt][2]\r\n",
        "\t\t\t\tpxl_dist = math.sqrt(pow(abs(r-ro),2) + pow(abs(g-go),2) + pow(abs(b-bo),2))\r\n",
        "\t\t\t\tspc_dist = math.sqrt(pow(abs(i-it),2) + pow(abs(j-jt),2))\r\n",
        "\t\t\t\ts_map[i][j] += pxl_dist/(math.exp(spc_dist))\r\n",
        "for i in range(row):\r\n",
        "\tfor j in range(col):\r\n",
        "\t\ts_map[i][j] = (s_map[i][j]/np.amax(s_map))*255\r\n",
        "print(np.amax(map_))\r\n",
        "s_map = s_map.astype(dtype = np.uint8)\r\n",
        "cv2.imwrite('output.jpg',s_map)\r\n",
        "cv2_imshow(s_map)"
      ],
      "execution_count": null,
      "outputs": [
        {
          "output_type": "display_data",
          "data": {
            "image/png": "[encoded data removed]",
            "text/plain": [
              "<PIL.Image.Image image mode=RGB size=40x40 at 0x7F6002195320>"
            ]
          },
          "metadata": {
            "tags": []
          }
        },
        {
          "output_type": "stream",
          "text": [
            "(40, 40, 3)\n",
            "255\n"
          ],
          "name": "stdout"
        },
        {
          "output_type": "display_data",
          "data": {
            "image/png": "[encoded data removed]",
            "text/plain": [
              "<PIL.Image.Image image mode=L size=40x40 at 0x7F6002195860>"
            ]
          },
          "metadata": {
            "tags": []
          }
        }
      ]
    },
    {
      "cell_type": "code",
      "metadata": {
        "id": "S7kAJebquytJ"
      },
      "source": [
        ""
      ],
      "execution_count": null,
      "outputs": []
    }
  ]
}